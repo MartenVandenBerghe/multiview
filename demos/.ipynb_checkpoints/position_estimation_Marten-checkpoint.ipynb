{
 "cells": [
  {
   "cell_type": "markdown",
   "id": "122e8ce3",
   "metadata": {},
   "source": [
    "Pinhole camera model.\n",
    "\n",
    "Only one frame of reference, with origin in the middle of camera positions.\n",
    "\n",
    "4 camera positions on a rectangular outlay.\n",
    "\n",
    "Focus distance: f.\n",
    "\n",
    "Pinholes in plane z = 0.\n",
    "\n",
    "Image planes (sensors) in plane z = -f.\n",
    "\n",
    "Assumed known: all pinhole and image positions in reference frame.\n",
    "\n",
    "Goal: find position of object.\n",
    "\n",
    "All distances in mm.\n",
    "\n"
   ]
  },
  {
   "cell_type": "markdown",
   "id": "4be1c9a7",
   "metadata": {},
   "source": [
    "WRF = world reference frame\n",
    "\n",
    "CRF = camera reference frame"
   ]
  },
  {
   "cell_type": "code",
   "execution_count": 49,
   "id": "d32d88cf",
   "metadata": {},
   "outputs": [],
   "source": [
    "import numpy as np\n",
    "import matplotlib.pyplot as plt"
   ]
  },
  {
   "cell_type": "markdown",
   "id": "deedb987",
   "metadata": {},
   "source": [
    "# Data generation"
   ]
  },
  {
   "cell_type": "code",
   "execution_count": 50,
   "id": "7b8d0e88",
   "metadata": {},
   "outputs": [],
   "source": [
    "# INPUT\n",
    "\n",
    "# Pinhole positions\n",
    "pinhole = np.array([\n",
    "    [-40,  65, 0],\n",
    "    [ 40,  65, 0],\n",
    "    [-40, -65, 0],\n",
    "    [ 40, -65, 0]\n",
    "])\n",
    "\n",
    "# Focus distance\n",
    "f = 16\n",
    "# f = 3.75\n",
    "\n",
    "# What we would not know: object position\n",
    "#obj = np.array([20, 10, 300])\n",
    "# obj = np.array([0, 0, 300])"
   ]
  },
  {
   "cell_type": "code",
   "execution_count": 51,
   "id": "9e2b7801",
   "metadata": {},
   "outputs": [],
   "source": [
    "# Number of cameras\n",
    "n_cam = pinhole.shape[0]"
   ]
  },
  {
   "cell_type": "code",
   "execution_count": 52,
   "id": "30d87c57",
   "metadata": {},
   "outputs": [],
   "source": [
    "# From notebook plot_explore.ipynb: positions of dots in CRF\n",
    "dotpos_CRF = np.array([\n",
    "    [-2.865 , -1.5025],\n",
    "    [ 1.7475, -1.5525],\n",
    "    [-2.8275,  1.785 ],\n",
    "    [ 1.7975,  1.7725]\n",
    "])"
   ]
  },
  {
   "cell_type": "code",
   "execution_count": 53,
   "id": "6c842470",
   "metadata": {},
   "outputs": [],
   "source": [
    "# Positions of red dots in WRF\n",
    "image = np.hstack([pinhole[:,:2] + dotpos_CRF, np.array([[-f]]*n_cam)])\n",
    "image"
   ]
  },
  {
   "cell_type": "code",
   "execution_count": 54,
   "id": "0a2f730f",
   "metadata": {
    "scrolled": true
   },
   "outputs": [],
   "source": [
    "# image = np.array([\n",
    "#     [-42.74755,  66.6434675, -f],\n",
    "#     [ 42.77575,  66.688075,  -f],\n",
    "#     [-41.918185,-66.5466375, -f],\n",
    "#     [ 41.88334, -66.7312,    -f]])\n",
    "# print(image)\n"
   ]
  },
  {
   "cell_type": "markdown",
   "id": "2b8e0060",
   "metadata": {},
   "source": [
    "# Reconstruction (finding obj)"
   ]
  },
  {
   "cell_type": "code",
   "execution_count": 55,
   "id": "ffacf89e",
   "metadata": {},
   "outputs": [],
   "source": [
    "# Directions of rays through images and pinholes\n",
    "direction = np.array([pinhole[i] - image[i] for i in range(n_cam)])\n",
    "direction"
   ]
  },
  {
   "cell_type": "code",
   "execution_count": 56,
   "id": "de2a4db2",
   "metadata": {},
   "outputs": [],
   "source": [
    "# Coefficient and constant matrices\n",
    "# rows = n_cam*(n_cam-1)*3\n",
    "# A = np.zeros((rows, n_cam))\n",
    "# B = np.zeros((rows))\n",
    "\n",
    "A = []\n",
    "B = []\n",
    "for i in range(n_cam):\n",
    "    for j in range(i+1, n_cam):\n",
    "        for a in range(3): # x,y,z\n",
    "            row = [0]*n_cam\n",
    "            row[i] =  direction[i,a]\n",
    "            row[j] = -direction[j,a]\n",
    "            A += [row]\n",
    "            B += [-image[i,a] + image[j,a]]\n",
    "\n",
    "A = np.array(A)\n",
    "B = np.array(B)\n",
    "# print(A)\n",
    "# print(B)"
   ]
  },
  {
   "cell_type": "code",
   "execution_count": 57,
   "id": "be16aca7",
   "metadata": {
    "scrolled": true
   },
   "outputs": [],
   "source": [
    "# Least squares solution using pseudoinverse\n",
    "# np.dot(np.dot(np.linalg.inv(np.dot(A.transpose(), A)), A.transpose()), B)\n",
    "\n",
    "t_est, residuals, rank, singular_values = np.linalg.lstsq(A, B, rcond='warn')\n",
    "t_est"
   ]
  },
  {
   "cell_type": "code",
   "execution_count": 58,
   "id": "f96702e8",
   "metadata": {
    "scrolled": true
   },
   "outputs": [],
   "source": [
    "# Reconstruction (can be done along all rays)\n",
    "for i in range(n_cam):\n",
    "    obj_est = image[i] + t_est[i]*direction[i]\n",
    "    print(obj_est)"
   ]
  },
  {
   "cell_type": "markdown",
   "id": "f0f56c1c",
   "metadata": {},
   "source": [
    "# Visualisation"
   ]
  },
  {
   "cell_type": "code",
   "execution_count": 59,
   "id": "f3d798d0",
   "metadata": {},
   "outputs": [],
   "source": [
    "# from mpl_toolkits.mplot3d import Axes3D\n",
    "\n",
    "# # Image coordinates for schematics (larger f)\n",
    "# f_sch = 40\n",
    "# image_sch = np.array([\n",
    "#     [(obj[0]-pinhole[p,0])*(-f_sch-pinhole[p,2])/(obj[2]-pinhole[p,2]) + pinhole[p,0],\n",
    "#      (obj[1]-pinhole[p,1])*(-f_sch-pinhole[p,2])/(obj[2]-pinhole[p,2]) + pinhole[p,1],\n",
    "#      -f_sch]\n",
    "#     for p in range(n_cam)\n",
    "# ])\n",
    "\n",
    "# fig = plt.figure(figsize = (20,10))\n",
    "# ax = fig.add_subplot(111, projection='3d')\n",
    "\n",
    "# ax.set_xlabel(\"x\")\n",
    "# ax.set_ylabel(\"y\")\n",
    "# ax.set_zlabel(\"z\")\n",
    "\n",
    "\n",
    "# # Draw projection rays\n",
    "# for c in range(n_cam):\n",
    "#     ax.plot3D([obj[0], image_sch[c,0]], [obj[1], image_sch[c,1]], [obj[2], image_sch[c,2]], color='black')\n",
    "\n",
    "# # Draw pinholes, images and object\n",
    "# ax.scatter(image_sch[:,0], image_sch[:,1], image_sch[:,2], s=30, color='red')\n",
    "# ax.scatter(obj[0], obj[1], obj[2], s=30, color='green')\n",
    "# ax.scatter(pinhole[:,0], pinhole[:,1], pinhole[:,2], s=30, color = 'blue')\n",
    "\n",
    "\n",
    "# # Draw image sensors\n",
    "# edge_sensor = 30\n",
    "# for c in range(n_cam):\n",
    "#     ctr = pinhole[c].copy()\n",
    "#     ctr[2] = -f_sch\n",
    "#     ax.plot3D(\n",
    "#         [ctr[0] - edge_sensor/2, ctr[0] - edge_sensor/2, ctr[0] + edge_sensor/2, ctr[0] + edge_sensor/2, ctr[0] - edge_sensor/2],\n",
    "#         [ctr[1] - edge_sensor/2, ctr[1] + edge_sensor/2, ctr[1] + edge_sensor/2, ctr[1] - edge_sensor/2, ctr[1] - edge_sensor/2],\n",
    "#         [-f_sch]*5,\n",
    "#         color = 'blue'\n",
    "#     )\n",
    "\n",
    "    \n",
    "# plt.legend([None, None, None, 'rays', 'images', 'point on object', \n",
    "#            'pinholes', 'image planes'])\n",
    "    \n",
    "# # # Coordinate system axis\n",
    "# # origo=[0,0,0]\n",
    "# # ax.quiver(origo[0],origo[1],origo[2], 200, 0, 0, color=\"r\",normalize=False)\n",
    "# # ax.quiver(origo[0],origo[1],origo[2], 0, 200, 0, color=\"g\",normalize=False)\n",
    "# # ax.quiver(origo[0],origo[1],origo[2], 0, 0, 200, color=\"b\",normalize=False)\n",
    "\n",
    "# # # axis label placement\n",
    "# # ax.text(0.1, 0.0, -0.2, r'$0$')\n",
    "# # ax.text(1.3, 0, 0, r'$x$')\n",
    "# # ax.text(0, 1.3, 0, r'$y$')\n",
    "# # ax.text(0, 0, 1.3, r'$z$')\n",
    "\n",
    "# # ax.axis('equal')\n",
    "\n",
    "\n",
    "# # Upside down\n",
    "# ax.invert_zaxis()\n",
    "\n",
    "# plt.show()"
   ]
  },
  {
   "cell_type": "code",
   "execution_count": null,
   "id": "7bd3adac",
   "metadata": {},
   "outputs": [],
   "source": []
  },
  {
   "cell_type": "code",
   "execution_count": null,
   "id": "fc7790b2",
   "metadata": {},
   "outputs": [],
   "source": []
  },
  {
   "cell_type": "markdown",
   "id": "1adb511e",
   "metadata": {},
   "source": [
    "# EXP\n",
    "\n"
   ]
  },
  {
   "cell_type": "code",
   "execution_count": null,
   "id": "313b262a",
   "metadata": {},
   "outputs": [],
   "source": []
  },
  {
   "cell_type": "code",
   "execution_count": 60,
   "id": "685a8bca",
   "metadata": {},
   "outputs": [],
   "source": [
    "# d = direction\n",
    "# i = image\n",
    "\n",
    "# A_alt = np.array([\n",
    "#     [d[0,0], -d[1,0],       0,      0],\n",
    "#     [d[0,1], -d[1,1],       0,      0],\n",
    "#     [d[0,2], -d[1,2],       0,      0],\n",
    "\n",
    "#     [d[0,0],       0, -d[2,0],      0],\n",
    "#     [d[0,1],       0, -d[2,1],      0],\n",
    "#     [d[0,2],       0, -d[2,2],      0],\n",
    "\n",
    "#     [d[0,0],       0,       0, -d[3,0]],\n",
    "#     [d[0,1],       0,       0, -d[3,1]],\n",
    "#     [d[0,2],       0,       0, -d[3,2]],\n",
    "    \n",
    "#     [     0, d[1,0], -d[2,0],      0],\n",
    "#     [     0, d[1,1], -d[2,1],      0],\n",
    "#     [     0, d[1,2], -d[2,2],      0],\n",
    "\n",
    "#     [     0, d[1,0],       0, -d[3,0]],\n",
    "#     [     0, d[1,1],       0, -d[3,1]],\n",
    "#     [     0, d[1,2],       0, -d[3,2]],\n",
    "     \n",
    "#     [     0,      0,  d[2,0], -d[3,0]],\n",
    "#     [     0,      0,  d[2,1], -d[3,1]],\n",
    "#     [     0,      0,  d[2,2], -d[3,2]],\n",
    "# ])\n",
    "\n",
    "# B_alt = np.array([\n",
    "#     -i[0,0] + i[1,0],\n",
    "#     -i[0,1] + i[1,1],\n",
    "#     -i[0,2] + i[1,2],\n",
    "    \n",
    "#     -i[0,0] + i[2,0],\n",
    "#     -i[0,1] + i[2,1],\n",
    "#     -i[0,2] + i[2,2],\n",
    "    \n",
    "#     -i[0,0] + i[3,0],\n",
    "#     -i[0,1] + i[3,1],\n",
    "#     -i[0,2] + i[3,2],\n",
    "\n",
    "    \n",
    "#     -i[1,0] + i[2,0],\n",
    "#     -i[1,1] + i[2,1],\n",
    "#     -i[1,2] + i[2,2],\n",
    "    \n",
    "#     -i[1,0] + i[3,0],\n",
    "#     -i[1,1] + i[3,1],\n",
    "#     -i[1,2] + i[3,2],\n",
    "\n",
    "    \n",
    "#     -i[2,0] + i[3,0],\n",
    "#     -i[2,1] + i[3,1],\n",
    "#     -i[2,2] + i[3,2],\n",
    "# ])\n",
    "\n",
    "# # Must be True, True\n",
    "# np.all(A_alt == A), np.all(B_alt == B)"
   ]
  },
  {
   "cell_type": "code",
   "execution_count": 61,
   "id": "352b1de0",
   "metadata": {},
   "outputs": [],
   "source": [
    "# from mpl_toolkits.mplot3d import Axes3D\n",
    "# import matplotlib.pyplot as plt\n",
    "# import numpy as np\n",
    "\n",
    "# fig = plt.figure()\n",
    "# ax = fig.add_subplot(111, projection='3d')\n",
    "\n",
    "\n",
    "# x = [1, 2, 1.2, 1.5, 1.5]\n",
    "# y = [1, 1.2, 2, 1.5, 1.5]\n",
    "# z = [.5, .5, .5, 1.2, 2]\n",
    "\n",
    "# a = []\n",
    "# b = []\n",
    "# c = []\n",
    "# for item in x:\n",
    "#     a.append(float(item))\n",
    "# for item in y:\n",
    "#     b.append(float(item))\n",
    "# for item in z:\n",
    "#     c.append(float(item))\n",
    "\n",
    "# r = np.array(a)\n",
    "# s = np.array(b)\n",
    "# t = np.array(c)\n",
    "\n",
    "# ax.set_xlabel(\"x axis\")\n",
    "# ax.set_ylabel(\"y axis\")\n",
    "# ax.set_zlabel(\"z axis\")\n",
    "\n",
    "\n",
    "# ax.scatter(r,s,zs = t, s=200)\n",
    "# ax.plot3D(r,s,z)\n",
    "# plt.show()"
   ]
  },
  {
   "cell_type": "code",
   "execution_count": null,
   "id": "b708df14",
   "metadata": {},
   "outputs": [],
   "source": []
  },
  {
   "cell_type": "code",
   "execution_count": null,
   "id": "c1e6a925",
   "metadata": {},
   "outputs": [],
   "source": []
  },
  {
   "cell_type": "code",
   "execution_count": null,
   "id": "48bc49e2",
   "metadata": {},
   "outputs": [],
   "source": []
  }
 ],
 "metadata": {
  "kernelspec": {
   "display_name": "Python 3 (ipykernel)",
   "language": "python",
   "name": "python3"
  },
  "language_info": {
   "codemirror_mode": {
    "name": "ipython",
    "version": 3
   },
   "file_extension": ".py",
   "mimetype": "text/x-python",
   "name": "python",
   "nbconvert_exporter": "python",
   "pygments_lexer": "ipython3",
   "version": "3.10.12"
  }
 },
 "nbformat": 4,
 "nbformat_minor": 5
}
