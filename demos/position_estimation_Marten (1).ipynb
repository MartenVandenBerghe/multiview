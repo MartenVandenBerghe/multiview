{
 "cells": [
  {
   "cell_type": "markdown",
   "metadata": {},
   "source": [
    "Pinhole camera model.\n",
    "\n",
    "Only one frame of reference, with origin in the middle of camera positions.\n",
    "\n",
    "4 camera positions on a rectangular outlay.\n",
    "\n",
    "Focus distance: f.\n",
    "\n",
    "Pinholes in plane z = 0.\n",
    "\n",
    "Image planes (sensors) in plane z = -f.\n",
    "\n",
    "Assumed known: all pinhole and image positions in reference frame.\n",
    "\n",
    "Goal: find position of object.\n",
    "\n",
    "All distances in mm.\n",
    "\n"
   ]
  },
  {
   "cell_type": "code",
   "execution_count": 2,
   "metadata": {},
   "outputs": [],
   "source": [
    "import numpy as np\n",
    "import matplotlib.pyplot as plt"
   ]
  },
  {
   "cell_type": "markdown",
   "metadata": {},
   "source": [
    "# Data generation"
   ]
  },
  {
   "cell_type": "code",
   "execution_count": 11,
   "metadata": {},
   "outputs": [],
   "source": [
    "# INPUT\n",
    "\n",
    "# Pinhole positions\n",
    "pinhole = np.array([\n",
    "    [40,  -65, 0],\n",
    "    [-40, -65, 0],\n",
    "    [-40, 65, 0],\n",
    "    [ 40, 65, 0]\n",
    "])\n",
    "\n",
    "# Focus distance\n",
    "f = 0.304\n",
    "\n",
    "# What we would not know: object position\n",
    "#obj = np.array([20, 10, 300])\n",
    "# obj = np.array([0, 0, 300])"
   ]
  },
  {
   "cell_type": "code",
   "execution_count": 12,
   "metadata": {},
   "outputs": [],
   "source": [
    "# Number of cameras\n",
    "n_cam = pinhole.shape[0]"
   ]
  },
  {
   "cell_type": "code",
   "execution_count": 15,
   "metadata": {
    "scrolled": true
   },
   "outputs": [
    {
     "name": "stdout",
     "output_type": "stream",
     "text": [
      "[[ 40.04901798 -65.07660708  -0.304     ]\n",
      " [-40.00273961 -65.0768116   -0.304     ]\n",
      " [-40.00917046  65.00612902  -0.304     ]\n",
      " [ 40.04839292  65.0043071   -0.304     ]]\n"
     ]
    }
   ],
   "source": [
    "image = np.array([[40.049017976,-65.07660708,-0.304],\n",
    "       [-40.00273961,-65.076811604, -0.304],\n",
    "       [-40.009170459,65.00612902,-0.304],\n",
    "       [40.048392915,65.004307102, -0.304]])\n",
    "print(image)\n"
   ]
  },
  {
   "cell_type": "code",
   "execution_count": 14,
   "metadata": {
    "scrolled": false
   },
   "outputs": [
    {
     "name": "stdout",
     "output_type": "stream",
     "text": [
      "[[-43.03125  66.915   -16.     ]\n",
      " [ 42.75     66.73125 -16.     ]\n",
      " [-41.91    -66.51    -16.     ]\n",
      " [ 41.86    -66.8     -16.     ]]\n"
     ]
    }
   ],
   "source": [
    "image = np.array([[-43.03125,66.915,-16],\n",
    "                  [42.75,66.73125, -16.],\n",
    "                  [-41.91,-66.51,-16.],\n",
    "                  [41.86,-66.80, -16.]])\n",
    "print(image)"
   ]
  },
  {
   "cell_type": "code",
   "execution_count": 5,
   "metadata": {},
   "outputs": [],
   "source": [
    "# Fake measuring errors\n",
    "..."
   ]
  },
  {
   "cell_type": "code",
   "execution_count": 6,
   "metadata": {},
   "outputs": [
    {
     "data": {
      "text/plain": [
       "numpy.ndarray"
      ]
     },
     "execution_count": 6,
     "metadata": {},
     "output_type": "execute_result"
    }
   ],
   "source": [
    "type(image)"
   ]
  },
  {
   "cell_type": "markdown",
   "metadata": {},
   "source": [
    "# Reconstruction (finding obj)"
   ]
  },
  {
   "cell_type": "code",
   "execution_count": 16,
   "metadata": {},
   "outputs": [
    {
     "data": {
      "text/plain": [
       "array([[-0.04901798,  0.07660708,  0.304     ],\n",
       "       [ 0.00273961,  0.0768116 ,  0.304     ],\n",
       "       [ 0.00917046, -0.00612902,  0.304     ],\n",
       "       [-0.04839292, -0.0043071 ,  0.304     ]])"
      ]
     },
     "execution_count": 16,
     "metadata": {},
     "output_type": "execute_result"
    }
   ],
   "source": [
    "# Directions of rays through images and pinholes\n",
    "direction = np.array([pinhole[i] - image[i] for i in range(n_cam)])\n",
    "direction"
   ]
  },
  {
   "cell_type": "code",
   "execution_count": null,
   "metadata": {
    "scrolled": true
   },
   "outputs": [],
   "source": [
    "\n"
   ]
  },
  {
   "cell_type": "code",
   "execution_count": 7,
   "metadata": {},
   "outputs": [],
   "source": [
    "# Coefficient and constant matrices\n",
    "# rows = n_cam*(n_cam-1)*3\n",
    "# A = np.zeros((rows, n_cam))\n",
    "# B = np.zeros((rows))\n",
    "\n",
    "A = []\n",
    "B = []\n",
    "for i in range(n_cam):\n",
    "    for j in range(i+1, n_cam):\n",
    "        for a in range(3): # x,y,z\n",
    "            row = [0]*n_cam\n",
    "            row[i] =  direction[i,a]\n",
    "            row[j] = -direction[j,a]\n",
    "            A += [row]\n",
    "            B += [-image[i,a] + image[j,a]]\n",
    "\n",
    "A = np.array(A)\n",
    "B = np.array(B)\n",
    "# print(A)\n",
    "# print(B)"
   ]
  },
  {
   "cell_type": "code",
   "execution_count": 17,
   "metadata": {
    "scrolled": true
   },
   "outputs": [
    {
     "data": {
      "text/plain": [
       "array([1546.23002895, 1546.24264477, 1546.22205962, 1546.22130368])"
      ]
     },
     "execution_count": 17,
     "metadata": {},
     "output_type": "execute_result"
    }
   ],
   "source": [
    "# Least squares solution using pseudoinverse\n",
    "np.dot(np.dot(np.linalg.inv(np.dot(A.transpose(), A)), A.transpose()), B)"
   ]
  },
  {
   "cell_type": "code",
   "execution_count": 18,
   "metadata": {
    "scrolled": true
   },
   "outputs": [
    {
     "name": "stderr",
     "output_type": "stream",
     "text": [
      "<ipython-input-18-cacfce3b2065>:1: FutureWarning: `rcond` parameter will change to the default of machine precision times ``max(M, N)`` where M and N are the input matrix dimensions.\n",
      "To use the future default and silence this warning we advise to pass `rcond=None`, to keep using the old, explicitly pass `rcond=-1`.\n",
      "  t_est, residuals, rank, singular_values = np.linalg.lstsq(A, B, rcond='warn')\n"
     ]
    },
    {
     "data": {
      "text/plain": [
       "array([1546.23002895, 1546.24264477, 1546.22205962, 1546.22130368])"
      ]
     },
     "execution_count": 18,
     "metadata": {},
     "output_type": "execute_result"
    }
   ],
   "source": [
    "t_est, residuals, rank, singular_values = np.linalg.lstsq(A, B, rcond='warn')\n",
    "t_est"
   ]
  },
  {
   "cell_type": "code",
   "execution_count": 19,
   "metadata": {
    "scrolled": false
   },
   "outputs": [
    {
     "name": "stdout",
     "output_type": "stream",
     "text": [
      "[-35.74404847  53.37556045 469.7499288 ]\n",
      "[-35.7666378   53.69256611 469.75376401]\n",
      "[-25.82960446  55.52930309 469.74750612]\n",
      "[-34.77776321  58.34457423 469.74727632]\n"
     ]
    }
   ],
   "source": [
    "# Reconstruction (can be done along all rays)\n",
    "for i in range(n_cam):\n",
    "    obj_est = image[i] + t_est[i]*direction[i]\n",
    "    print(obj_est)"
   ]
  },
  {
   "cell_type": "markdown",
   "metadata": {},
   "source": [
    "# Visualisation"
   ]
  },
  {
   "cell_type": "code",
   "execution_count": 12,
   "metadata": {},
   "outputs": [
    {
     "ename": "NameError",
     "evalue": "name 'obj' is not defined",
     "output_type": "error",
     "traceback": [
      "\u001b[1;31m---------------------------------------------------------------------------\u001b[0m",
      "\u001b[1;31mNameError\u001b[0m                                 Traceback (most recent call last)",
      "\u001b[1;32m<ipython-input-12-bd800d349f1f>\u001b[0m in \u001b[0;36m<module>\u001b[1;34m\u001b[0m\n\u001b[0;32m      3\u001b[0m \u001b[1;31m# Image coordinates for schematics (larger f)\u001b[0m\u001b[1;33m\u001b[0m\u001b[1;33m\u001b[0m\u001b[1;33m\u001b[0m\u001b[0m\n\u001b[0;32m      4\u001b[0m \u001b[0mf_sch\u001b[0m \u001b[1;33m=\u001b[0m \u001b[1;36m40\u001b[0m\u001b[1;33m\u001b[0m\u001b[1;33m\u001b[0m\u001b[0m\n\u001b[1;32m----> 5\u001b[1;33m image_sch = np.array([\n\u001b[0m\u001b[0;32m      6\u001b[0m     [(obj[0]-pinhole[p,0])*(-f_sch-pinhole[p,2])/(obj[2]-pinhole[p,2]) + pinhole[p,0],\n\u001b[0;32m      7\u001b[0m      \u001b[1;33m(\u001b[0m\u001b[0mobj\u001b[0m\u001b[1;33m[\u001b[0m\u001b[1;36m1\u001b[0m\u001b[1;33m]\u001b[0m\u001b[1;33m-\u001b[0m\u001b[0mpinhole\u001b[0m\u001b[1;33m[\u001b[0m\u001b[0mp\u001b[0m\u001b[1;33m,\u001b[0m\u001b[1;36m1\u001b[0m\u001b[1;33m]\u001b[0m\u001b[1;33m)\u001b[0m\u001b[1;33m*\u001b[0m\u001b[1;33m(\u001b[0m\u001b[1;33m-\u001b[0m\u001b[0mf_sch\u001b[0m\u001b[1;33m-\u001b[0m\u001b[0mpinhole\u001b[0m\u001b[1;33m[\u001b[0m\u001b[0mp\u001b[0m\u001b[1;33m,\u001b[0m\u001b[1;36m2\u001b[0m\u001b[1;33m]\u001b[0m\u001b[1;33m)\u001b[0m\u001b[1;33m/\u001b[0m\u001b[1;33m(\u001b[0m\u001b[0mobj\u001b[0m\u001b[1;33m[\u001b[0m\u001b[1;36m2\u001b[0m\u001b[1;33m]\u001b[0m\u001b[1;33m-\u001b[0m\u001b[0mpinhole\u001b[0m\u001b[1;33m[\u001b[0m\u001b[0mp\u001b[0m\u001b[1;33m,\u001b[0m\u001b[1;36m2\u001b[0m\u001b[1;33m]\u001b[0m\u001b[1;33m)\u001b[0m \u001b[1;33m+\u001b[0m \u001b[0mpinhole\u001b[0m\u001b[1;33m[\u001b[0m\u001b[0mp\u001b[0m\u001b[1;33m,\u001b[0m\u001b[1;36m1\u001b[0m\u001b[1;33m]\u001b[0m\u001b[1;33m,\u001b[0m\u001b[1;33m\u001b[0m\u001b[1;33m\u001b[0m\u001b[0m\n",
      "\u001b[1;32m<ipython-input-12-bd800d349f1f>\u001b[0m in \u001b[0;36m<listcomp>\u001b[1;34m(.0)\u001b[0m\n\u001b[0;32m      4\u001b[0m \u001b[0mf_sch\u001b[0m \u001b[1;33m=\u001b[0m \u001b[1;36m40\u001b[0m\u001b[1;33m\u001b[0m\u001b[1;33m\u001b[0m\u001b[0m\n\u001b[0;32m      5\u001b[0m image_sch = np.array([\n\u001b[1;32m----> 6\u001b[1;33m     [(obj[0]-pinhole[p,0])*(-f_sch-pinhole[p,2])/(obj[2]-pinhole[p,2]) + pinhole[p,0],\n\u001b[0m\u001b[0;32m      7\u001b[0m      \u001b[1;33m(\u001b[0m\u001b[0mobj\u001b[0m\u001b[1;33m[\u001b[0m\u001b[1;36m1\u001b[0m\u001b[1;33m]\u001b[0m\u001b[1;33m-\u001b[0m\u001b[0mpinhole\u001b[0m\u001b[1;33m[\u001b[0m\u001b[0mp\u001b[0m\u001b[1;33m,\u001b[0m\u001b[1;36m1\u001b[0m\u001b[1;33m]\u001b[0m\u001b[1;33m)\u001b[0m\u001b[1;33m*\u001b[0m\u001b[1;33m(\u001b[0m\u001b[1;33m-\u001b[0m\u001b[0mf_sch\u001b[0m\u001b[1;33m-\u001b[0m\u001b[0mpinhole\u001b[0m\u001b[1;33m[\u001b[0m\u001b[0mp\u001b[0m\u001b[1;33m,\u001b[0m\u001b[1;36m2\u001b[0m\u001b[1;33m]\u001b[0m\u001b[1;33m)\u001b[0m\u001b[1;33m/\u001b[0m\u001b[1;33m(\u001b[0m\u001b[0mobj\u001b[0m\u001b[1;33m[\u001b[0m\u001b[1;36m2\u001b[0m\u001b[1;33m]\u001b[0m\u001b[1;33m-\u001b[0m\u001b[0mpinhole\u001b[0m\u001b[1;33m[\u001b[0m\u001b[0mp\u001b[0m\u001b[1;33m,\u001b[0m\u001b[1;36m2\u001b[0m\u001b[1;33m]\u001b[0m\u001b[1;33m)\u001b[0m \u001b[1;33m+\u001b[0m \u001b[0mpinhole\u001b[0m\u001b[1;33m[\u001b[0m\u001b[0mp\u001b[0m\u001b[1;33m,\u001b[0m\u001b[1;36m1\u001b[0m\u001b[1;33m]\u001b[0m\u001b[1;33m,\u001b[0m\u001b[1;33m\u001b[0m\u001b[1;33m\u001b[0m\u001b[0m\n\u001b[0;32m      8\u001b[0m      -f_sch]\n",
      "\u001b[1;31mNameError\u001b[0m: name 'obj' is not defined"
     ]
    }
   ],
   "source": [
    "from mpl_toolkits.mplot3d import Axes3D\n",
    "\n",
    "# Image coordinates for schematics (larger f)\n",
    "f_sch = 40\n",
    "image_sch = np.array([\n",
    "    [(obj[0]-pinhole[p,0])*(-f_sch-pinhole[p,2])/(obj[2]-pinhole[p,2]) + pinhole[p,0],\n",
    "     (obj[1]-pinhole[p,1])*(-f_sch-pinhole[p,2])/(obj[2]-pinhole[p,2]) + pinhole[p,1],\n",
    "     -f_sch]\n",
    "    for p in range(n_cam)\n",
    "])\n",
    "\n",
    "fig = plt.figure(figsize = (20,10))\n",
    "ax = fig.add_subplot(111, projection='3d')\n",
    "\n",
    "ax.set_xlabel(\"x\")\n",
    "ax.set_ylabel(\"y\")\n",
    "ax.set_zlabel(\"z\")\n",
    "\n",
    "\n",
    "# Draw projection rays\n",
    "for c in range(n_cam):\n",
    "    ax.plot3D([obj[0], image_sch[c,0]], [obj[1], image_sch[c,1]], [obj[2], image_sch[c,2]], color='black')\n",
    "\n",
    "# Draw pinholes, images and object\n",
    "ax.scatter(image_sch[:,0], image_sch[:,1], image_sch[:,2], s=30, color='red')\n",
    "ax.scatter(obj[0], obj[1], obj[2], s=30, color='green')\n",
    "ax.scatter(pinhole[:,0], pinhole[:,1], pinhole[:,2], s=30, color = 'blue')\n",
    "\n",
    "\n",
    "\n",
    "\n",
    "\n",
    "\n",
    "\n",
    "# Draw image sensors\n",
    "edge_sensor = 30\n",
    "for c in range(n_cam):\n",
    "    ctr = pinhole[c].copy()\n",
    "    ctr[2] = -f_sch\n",
    "    ax.plot3D(\n",
    "        [ctr[0] - edge_sensor/2, ctr[0] - edge_sensor/2, ctr[0] + edge_sensor/2, ctr[0] + edge_sensor/2, ctr[0] - edge_sensor/2],\n",
    "        [ctr[1] - edge_sensor/2, ctr[1] + edge_sensor/2, ctr[1] + edge_sensor/2, ctr[1] - edge_sensor/2, ctr[1] - edge_sensor/2],\n",
    "        [-f_sch]*5,\n",
    "        color = 'blue'\n",
    "    )\n",
    "\n",
    "    \n",
    "plt.legend([None, None, None, 'rays', 'images', 'point on object', \n",
    "           'pinholes', 'image planes'])\n",
    "    \n",
    "# # Coordinate system axis\n",
    "# origo=[0,0,0]\n",
    "# ax.quiver(origo[0],origo[1],origo[2], 200, 0, 0, color=\"r\",normalize=False)\n",
    "# ax.quiver(origo[0],origo[1],origo[2], 0, 200, 0, color=\"g\",normalize=False)\n",
    "# ax.quiver(origo[0],origo[1],origo[2], 0, 0, 200, color=\"b\",normalize=False)\n",
    "\n",
    "# # axis label placement\n",
    "# ax.text(0.1, 0.0, -0.2, r'$0$')\n",
    "# ax.text(1.3, 0, 0, r'$x$')\n",
    "# ax.text(0, 1.3, 0, r'$y$')\n",
    "# ax.text(0, 0, 1.3, r'$z$')\n",
    "\n",
    "# ax.axis('equal')\n",
    "\n",
    "\n",
    "# Upside down\n",
    "ax.invert_zaxis()\n",
    "\n",
    "plt.show()"
   ]
  },
  {
   "cell_type": "code",
   "execution_count": null,
   "metadata": {},
   "outputs": [],
   "source": []
  },
  {
   "cell_type": "code",
   "execution_count": null,
   "metadata": {},
   "outputs": [],
   "source": []
  },
  {
   "cell_type": "markdown",
   "metadata": {},
   "source": [
    "# EXP\n",
    "\n"
   ]
  },
  {
   "cell_type": "code",
   "execution_count": null,
   "metadata": {},
   "outputs": [],
   "source": []
  },
  {
   "cell_type": "code",
   "execution_count": null,
   "metadata": {},
   "outputs": [],
   "source": [
    "# d = direction\n",
    "# i = image\n",
    "\n",
    "# A_alt = np.array([\n",
    "#     [d[0,0], -d[1,0],       0,      0],\n",
    "#     [d[0,1], -d[1,1],       0,      0],\n",
    "#     [d[0,2], -d[1,2],       0,      0],\n",
    "\n",
    "#     [d[0,0],       0, -d[2,0],      0],\n",
    "#     [d[0,1],       0, -d[2,1],      0],\n",
    "#     [d[0,2],       0, -d[2,2],      0],\n",
    "\n",
    "#     [d[0,0],       0,       0, -d[3,0]],\n",
    "#     [d[0,1],       0,       0, -d[3,1]],\n",
    "#     [d[0,2],       0,       0, -d[3,2]],\n",
    "    \n",
    "#     [     0, d[1,0], -d[2,0],      0],\n",
    "#     [     0, d[1,1], -d[2,1],      0],\n",
    "#     [     0, d[1,2], -d[2,2],      0],\n",
    "\n",
    "#     [     0, d[1,0],       0, -d[3,0]],\n",
    "#     [     0, d[1,1],       0, -d[3,1]],\n",
    "#     [     0, d[1,2],       0, -d[3,2]],\n",
    "     \n",
    "#     [     0,      0,  d[2,0], -d[3,0]],\n",
    "#     [     0,      0,  d[2,1], -d[3,1]],\n",
    "#     [     0,      0,  d[2,2], -d[3,2]],\n",
    "# ])\n",
    "\n",
    "# B_alt = np.array([\n",
    "#     -i[0,0] + i[1,0],\n",
    "#     -i[0,1] + i[1,1],\n",
    "#     -i[0,2] + i[1,2],\n",
    "    \n",
    "#     -i[0,0] + i[2,0],\n",
    "#     -i[0,1] + i[2,1],\n",
    "#     -i[0,2] + i[2,2],\n",
    "    \n",
    "#     -i[0,0] + i[3,0],\n",
    "#     -i[0,1] + i[3,1],\n",
    "#     -i[0,2] + i[3,2],\n",
    "\n",
    "    \n",
    "#     -i[1,0] + i[2,0],\n",
    "#     -i[1,1] + i[2,1],\n",
    "#     -i[1,2] + i[2,2],\n",
    "    \n",
    "#     -i[1,0] + i[3,0],\n",
    "#     -i[1,1] + i[3,1],\n",
    "#     -i[1,2] + i[3,2],\n",
    "\n",
    "    \n",
    "#     -i[2,0] + i[3,0],\n",
    "#     -i[2,1] + i[3,1],\n",
    "#     -i[2,2] + i[3,2],\n",
    "# ])\n",
    "\n",
    "# # Must be True, True\n",
    "# np.all(A_alt == A), np.all(B_alt == B)"
   ]
  },
  {
   "cell_type": "code",
   "execution_count": null,
   "metadata": {},
   "outputs": [],
   "source": [
    "# from mpl_toolkits.mplot3d import Axes3D\n",
    "# import matplotlib.pyplot as plt\n",
    "# import numpy as np\n",
    "\n",
    "# fig = plt.figure()\n",
    "# ax = fig.add_subplot(111, projection='3d')\n",
    "\n",
    "\n",
    "# x = [1, 2, 1.2, 1.5, 1.5]\n",
    "# y = [1, 1.2, 2, 1.5, 1.5]\n",
    "# z = [.5, .5, .5, 1.2, 2]\n",
    "\n",
    "# a = []\n",
    "# b = []\n",
    "# c = []\n",
    "# for item in x:\n",
    "#     a.append(float(item))\n",
    "# for item in y:\n",
    "#     b.append(float(item))\n",
    "# for item in z:\n",
    "#     c.append(float(item))\n",
    "\n",
    "# r = np.array(a)\n",
    "# s = np.array(b)\n",
    "# t = np.array(c)\n",
    "\n",
    "# ax.set_xlabel(\"x axis\")\n",
    "# ax.set_ylabel(\"y axis\")\n",
    "# ax.set_zlabel(\"z axis\")\n",
    "\n",
    "\n",
    "# ax.scatter(r,s,zs = t, s=200)\n",
    "# ax.plot3D(r,s,z)\n",
    "# plt.show()"
   ]
  },
  {
   "cell_type": "code",
   "execution_count": null,
   "metadata": {},
   "outputs": [],
   "source": []
  },
  {
   "cell_type": "code",
   "execution_count": null,
   "metadata": {},
   "outputs": [],
   "source": []
  },
  {
   "cell_type": "code",
   "execution_count": null,
   "metadata": {},
   "outputs": [],
   "source": []
  }
 ],
 "metadata": {
  "kernelspec": {
   "display_name": "Python 3",
   "language": "python",
   "name": "python3"
  },
  "language_info": {
   "codemirror_mode": {
    "name": "ipython",
    "version": 3
   },
   "file_extension": ".py",
   "mimetype": "text/x-python",
   "name": "python",
   "nbconvert_exporter": "python",
   "pygments_lexer": "ipython3",
   "version": "3.8.3"
  }
 },
 "nbformat": 4,
 "nbformat_minor": 5
}
